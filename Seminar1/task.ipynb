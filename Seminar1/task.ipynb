{
 "cells": [
  {
   "cell_type": "markdown",
   "metadata": {},
   "source": [
    "*Условие 1: *\n",
    "Оформляйте ноутбук, используя эти советы:\n",
    "Номер задачи - заголовок 2\n",
    "Номер подзадачи - заголовок 3\n",
    "Предоставленные наборы данных оформляйте, как код\n",
    "Рекомендации для преподавателей по оценке задания:\n",
    "Смотреть, чтобы студент красиво оформлял ноутбук, использовал ячейки с текстом, указывал номера заданий"
   ]
  },
  {
   "cell_type": "markdown",
   "metadata": {},
   "source": [
    "*Условие 2: *\n",
    "На складе лежат разные фрукты в разном количестве.\n",
    "Нужно написать функцию, которая на вход принимает любое количество названий фруктов и их количество, а возвращает общее количество фруктов на складе"
   ]
  },
  {
   "cell_type": "code",
   "execution_count": 2,
   "metadata": {},
   "outputs": [
    {
     "name": "stdout",
     "output_type": "stream",
     "text": [
      "There are 18 fruits on stock.\n"
     ]
    }
   ],
   "source": [
    "def calculate_total_fruits(**fruits):\n",
    "    total = 0\n",
    "    for quantity in fruits.values():\n",
    "        total += quantity\n",
    "    return total\n",
    "\n",
    "fruits_on_stock = calculate_total_fruits(apples=10, oranges=5, bananas=3)\n",
    "print(f\"There are {fruits_on_stock} fruits on stock.\")"
   ]
  },
  {
   "cell_type": "markdown",
   "metadata": {},
   "source": [
    "*Условие 3: *\n",
    "Дан список с затратами на рекламу. Но в данных есть ошибки, некоторые затраты имеют отрицательную величину. Удалите такие значения из списка и посчитайте суммарные затраты\n",
    "[100, 125, -90, 345, 655, -1, 0, 200]\n",
    "Используйте list comprehensions"
   ]
  },
  {
   "cell_type": "code",
   "execution_count": 3,
   "metadata": {},
   "outputs": [
    {
     "name": "stdout",
     "output_type": "stream",
     "text": [
      "The total expenses are: 1425\n"
     ]
    }
   ],
   "source": [
    "expenses = [100, 125, -90, 345, 655, -1, 0, 200]\n",
    "positive_expenses = [expense for expense in expenses if expense >= 0]\n",
    "total_expenses = sum(positive_expenses)\n",
    "\n",
    "print(f\"The total expenses are: {total_expenses}\")"
   ]
  },
  {
   "cell_type": "markdown",
   "metadata": {},
   "source": [
    "*Условие 4: *\n",
    "Даны два списка.\n",
    "Дата покупки\n",
    "['2021-09-14', '2021-12-15', '2021-09-08', '2021-12-05', '2021-10-09', '2021-09-30', '2021-12-22', '2021-11-29', '2021-12-24', '2021-11-26', '2021-10-27', '2021-12-18', '2021-11-09', '2021-11-23', '2021-09-27', '2021-10-02', '2021-12-27', '2021-09-20', '2021-12-13', '2021-11-01', '2021-11-09', '2021-12-06', '2021-12-08', '2021-10-09', '2021-10-31', '2021-09-30', '2021-11-09', '2021-12-13', '2021-10-26', '2021-12-09']\n",
    "Суммы покупок по датам\n",
    "[1270, 8413, 9028, 3703, 5739, 4095, 295, 4944, 5723, 3701, 4471, 651, 7037, 4274, 6275, 4988, 6930, 2971, 6592, 2004, 2822, 519, 3406, 2732, 5015, 2008, 316, 6333, 5700, 2887]\n",
    "4.1 Найдите, какая выручка у компании в ноябре\n",
    "Используйте list comprehensions\n",
    "4.2 Найдите выручку компании в зависимости от месяца\n",
    "Для этого напишите функцию, которая на вход принимает список с датами и список с выручкой, а на выходе словарь, где ключи - это месяцы, а значения - это выручка.\n",
    "Используйте аннотирование типов."
   ]
  },
  {
   "cell_type": "code",
   "execution_count": 6,
   "metadata": {},
   "outputs": [
    {
     "name": "stdout",
     "output_type": "stream",
     "text": [
      "The company revenue in November is: 25098\n",
      "Monthly revenue:\n",
      "Month 9: 25647\n",
      "Month 12: 45452\n",
      "Month 10: 28645\n",
      "Month 11: 25098\n"
     ]
    }
   ],
   "source": [
    "from datetime import datetime\n",
    "\n",
    "date_purchases = ['2021-09-14', '2021-12-15', '2021-09-08', '2021-12-05', '2021-10-09', '2021-09-30', '2021-12-22', '2021-11-29', '2021-12-24', '2021-11-26', '2021-10-27', '2021-12-18', '2021-11-09', '2021-11-23', '2021-09-27', '2021-10-02', '2021-12-27', '2021-09-20', '2021-12-13', '2021-11-01', '2021-11-09', '2021-12-06', '2021-12-08', '2021-10-09', '2021-10-31', '2021-09-30', '2021-11-09', '2021-12-13', '2021-10-26', '2021-12-09']\n",
    "purchase_amounts = [1270, 8413, 9028, 3703, 5739, 4095, 295, 4944, 5723, 3701, 4471, 651, 7037, 4274, 6275, 4988, 6930, 2971, 6592, 2004, 2822, 519, 3406, 2732, 5015, 2008, 316, 6333, 5700, 2887]\n",
    "\n",
    "# 4.1 Найти выручку компании в ноябре\n",
    "november_revenue = sum([amount for date, amount in zip(date_purchases, purchase_amounts) if datetime.strptime(date, '%Y-%m-%d').month == 11])\n",
    "print(f\"The company revenue in November is: {november_revenue}\")\n",
    "\n",
    "# 4.2 Найти выручку компании в зависимости от месяца\n",
    "def calculate_monthly_revenue(dates: list[str], amounts: list[int]) -> dict[str,int]:\n",
    "    revenue_by_month = {}\n",
    "    for date, amount in zip(dates, amounts):\n",
    "        month = datetime.strptime(date, '%Y-%m-%d').month\n",
    "        if month in revenue_by_month:\n",
    "            revenue_by_month[month] += amount\n",
    "        else:\n",
    "            revenue_by_month[month] = amount\n",
    "    return revenue_by_month\n",
    "\n",
    "monthly_revenue = calculate_monthly_revenue(date_purchases, purchase_amounts)\n",
    "print(\"Monthly revenue:\")\n",
    "for month, revenue in monthly_revenue.items():\n",
    "    print(f\"Month {month}: {revenue}\")"
   ]
  }
 ],
 "metadata": {
  "kernelspec": {
   "display_name": "Python 3",
   "language": "python",
   "name": "python3"
  },
  "language_info": {
   "codemirror_mode": {
    "name": "ipython",
    "version": 3
   },
   "file_extension": ".py",
   "mimetype": "text/x-python",
   "name": "python",
   "nbconvert_exporter": "python",
   "pygments_lexer": "ipython3",
   "version": "3.10.11"
  },
  "orig_nbformat": 4
 },
 "nbformat": 4,
 "nbformat_minor": 2
}
